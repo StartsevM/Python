{
 "cells": [
  {
   "cell_type": "markdown",
   "metadata": {},
   "source": [
    "# argparse"
   ]
  },
  {
   "cell_type": "markdown",
   "metadata": {},
   "source": [
    "argparse - это модуль для обработки аргументов командной строки. Примеры того, что позволяет делать модуль:\n",
    "\n",
    "•создавать аргументы и опции, с которыми может вызываться скрипт;\n",
    "\n",
    "•указывать типы аргументов, значения по умолчанию;\n",
    "\n",
    "•указывать, какие действия соответствуют аргументам;\n",
    "\n",
    "•выполнять вызов функции при указании аргумента;\n",
    "\n",
    "•отображать сообщения с подсказками по использованию скрипта"
   ]
  },
  {
   "cell_type": "markdown",
   "metadata": {},
   "source": [
    "Создание парсера:\n",
    "\n",
    "parser = argparse.ArgumentParser(description='***')"
   ]
  },
  {
   "cell_type": "code",
   "execution_count": 3,
   "metadata": {},
   "outputs": [
    {
     "name": "stdout",
     "output_type": "stream",
     "text": [
      "Namespace(a=True, b='val', c=2)\n"
     ]
    }
   ],
   "source": [
    "import argparse\n",
    "parser = argparse.ArgumentParser(description='Short sample app')\n",
    "\n",
    "parser.add_argument('-a', action=\"store_true\", default=False)\n",
    "parser.add_argument('-b', action=\"store\", dest=\"b\")\n",
    "parser.add_argument('-c', action=\"store\", dest=\"c\", default=2, type=int)\n",
    "\n",
    "print(parser.parse_args(['-a', '-bval']))"
   ]
  },
  {
   "cell_type": "markdown",
   "metadata": {},
   "source": [
    "parser.add_argument('-c', action=\"store\", dest=\"c\", default=2, type=int)--аргумент, который передается после опции -c, будет сохранен в переменную c, но прежде будет конвертирован в число. Если аргумент не был указан, по умолчанию будет значение 2"
   ]
  },
  {
   "attachments": {
    "image-2.png": {
     "image/png": "[encoded data removed]"
    }
   },
   "cell_type": "markdown",
   "metadata": {},
   "source": [
    "![image-2.png](attachment:image-2.png)"
   ]
  },
  {
   "cell_type": "markdown",
   "metadata": {},
   "source": [
    "• store. Сохранить значение после его необязательного преобразования в\n",
    "другой тип. Это действие выполняется по умолчанию, если никакое другое\n",
    "действие не указано явно.\n",
    "\n",
    "• store_const. Сохранить значение, определенное как часть спецификации\n",
    "аргумента, а не как значение, происходящее от анализируемого аргумента.\n",
    "\n",
    "Как правило, этой возможностью пользуются для реализации флагов командной строки, не являющихся булевыми значениями.\n",
    "\n",
    "• store_true/store_false. Сохранить подходящее булево значение. Эти\n",
    "действия используются для реализации булевых переключателей.\n",
    "\n",
    "• append. Сохранить значение в списке. Если аргумент повторяется, сохраняются несколько значений.\n",
    "\n",
    "• append_const. Сохранить значение, определенное в спецификации аргумента, в списке.\n",
    "\n",
    "• version. Вывести подробную информацию о версии программы и завершить выполнение."
   ]
  },
  {
   "cell_type": "markdown",
   "metadata": {},
   "source": [
    "Следующий пример демонстрирует использование этих типов действий и минимальную конфигурацию, необходимую для работы каждого из них."
   ]
  },
  {
   "cell_type": "code",
   "execution_count": null,
   "metadata": {},
   "outputs": [],
   "source": [
    "import argparse\n",
    "\n",
    "parser = argparse.ArgumentParser()\n",
    "\n",
    "parser.add_argument('-s', action='store',\n",
    "                    dest='simple_value',\n",
    "                    help='Store а simple value')\n",
    "parser.add_argument('-c', action='store_const',\n",
    "                    dest='constant_value',\n",
    "                    const='value-to-store',\n",
    "                    help='Store а constant value')\n",
    "parser.add_argument('-t', action='store_true',\n",
    "                    default=False,\n",
    "                    dest='boolean_t',\n",
    "                    help='Set a switch to true')\n",
    "parser.add_argument('-f', action='store_false',\n",
    "                    default=True,\n",
    "                    dest='boolean_f',\n",
    "                    help='Set a switch to false')\n",
    "parser.add_argument('-a', action='append',\n",
    "                    dest='collection',\n",
    "                    default=[],\n",
    "                    help='Add repeated values to a list')\n",
    "parser.add_argument('-A', action='append_const',\n",
    "                    dest='const_collection',\n",
    "                    const='value-l-to-append',\n",
    "                    default=[],\n",
    "                    help='Add different values to list')\n",
    "parser.add_argument('-B', action='append_const',\n",
    "                    dest='const_collection',\n",
    "                    const='value-2-to-append',\n",
    "                    help='Add different values to list')\n",
    "\n",
    "results = parser.parse_args()\n",
    "\n",
    "print('simple_value = {!r}'.format(results.simple_value))\n",
    "print('constant_value = {!r}'.format(results.constant_value))\n",
    "print('boolean_t = {!r}'.format(results.boolean_t))\n",
    "print('boolean_f = {!r}'.format(results.boolean_f))\n",
    "print('collection = {!r}'.format(results.collection))\n",
    "print('const__collection = {!r}'.format(results.const_collection))\n"
   ]
  },
  {
   "attachments": {
    "image.png": {
     "image/png": "[encoded data removed]"
    }
   },
   "cell_type": "markdown",
   "metadata": {},
   "source": [
    "![image.png](attachment:image.png)"
   ]
  },
  {
   "attachments": {
    "image.png": {
     "image/png": "[encoded data removed]"
    }
   },
   "cell_type": "markdown",
   "metadata": {},
   "source": [
    "![image.png](attachment:image.png)"
   ]
  },
  {
   "cell_type": "markdown",
   "metadata": {},
   "source": [
    "Документация: https://docs.python.org/3.5/library/argparse.html"
   ]
  },
  {
   "cell_type": "markdown",
   "metadata": {},
   "source": [
    "Задание: Задействовать  модуль argparse, создав парсер с использованием нескольких действий (store,append..)"
   ]
  }
 ],
 "metadata": {
  "kernelspec": {
   "display_name": "Python 3",
   "language": "python",
   "name": "python3"
  },
  "language_info": {
   "codemirror_mode": {
    "name": "ipython",
    "version": 3
   },
   "file_extension": ".py",
   "mimetype": "text/x-python",
   "name": "python",
   "nbconvert_exporter": "python",
   "pygments_lexer": "ipython3",
   "version": "3.9.0"
  }
 },
 "nbformat": 4,
 "nbformat_minor": 4
}
