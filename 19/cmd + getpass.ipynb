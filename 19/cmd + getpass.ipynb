{
 "cells": [
  {
   "cell_type": "markdown",
   "metadata": {},
   "source": [
    "# cmd"
   ]
  },
  {
   "cell_type": "markdown",
   "metadata": {},
   "source": [
    "Модуль cmd содержит общедоступный класс Cmd, предназначенный для использования в качестве базового класса для интерактивных оболочек и других интерпретаторов команд."
   ]
  },
  {
   "cell_type": "markdown",
   "metadata": {},
   "source": [
    "Интерпретатор команд, создаваемый c помощью модуля cmd, использует цикл\n",
    "для чтения входных строк, их синтаксического анализа и последующей передачи\n",
    "команды соответствующему обработчику. \n",
    "\n",
    "Входные строки разбиваются на две части: команду и другой текст, находящийся в данной строке. Например, если пользователь введет foo x, а класс интерпретатора включает метод c именем do_foo (), то этот метод будет вызван c \"x\" в качестве единственного аргумента."
   ]
  },
  {
   "cell_type": "markdown",
   "metadata": {},
   "source": [
    "## Обработка команд"
   ]
  },
  {
   "cell_type": "markdown",
   "metadata": {},
   "source": [
    "Ниже приведен пример простой программы, которая поддерживает команду\n",
    "“greet”."
   ]
  },
  {
   "cell_type": "code",
   "execution_count": 16,
   "metadata": {},
   "outputs": [
    {
     "name": "stdout",
     "output_type": "stream",
     "text": [
      "(Cmd) greet\n",
      "hello\n",
      "(Cmd) help\n",
      "\n",
      "Documented commands (type help <topic>):\n",
      "========================================\n",
      "help\n",
      "\n",
      "Undocumented commands:\n",
      "======================\n",
      "EOF  greet\n",
      "\n",
      "(Cmd) EOF\n"
     ]
    }
   ],
   "source": [
    "import cmd\n",
    "class HelloWorld(cmd.Cmd):\n",
    "    def do_greet(self, line):\n",
    "        print(\"hello\")\n",
    "    def do_EOF(self, line):\n",
    "        return True\n",
    "if __name__ == '__main__' :\n",
    "    HelloWorld().cmdloop()"
   ]
  },
  {
   "cell_type": "markdown",
   "metadata": {},
   "source": [
    "В класс Cmd встроена команда help. Будучи вызванной без аргументов, она отображает список доступных команд. Если ввод включает имя команды, выводится более подробная информация, ограниченная описанием этой команды."
   ]
  },
  {
   "cell_type": "markdown",
   "metadata": {},
   "source": [
    "## Аргументы команд"
   ]
  },
  {
   "cell_type": "markdown",
   "metadata": {},
   "source": [
    "Следующий пример включает усовершенствования, устраняющие некоторые недостатки предыдущей программы, и справку для команды greet."
   ]
  },
  {
   "cell_type": "code",
   "execution_count": 12,
   "metadata": {
    "scrolled": true
   },
   "outputs": [
    {
     "name": "stdout",
     "output_type": "stream",
     "text": [
      "(Cmd) greet User\n",
      "hello, User\n",
      "(Cmd) greet\n",
      "hi\n",
      "(Cmd) help\n",
      "\n",
      "Documented commands (type help <topic>):\n",
      "========================================\n",
      "greet  help\n",
      "\n",
      "Undocumented commands:\n",
      "======================\n",
      "EOF\n",
      "\n",
      "(Cmd) EOF\n"
     ]
    }
   ],
   "source": [
    "class HelloWorld(cmd.Cmd):\n",
    "    def do_greet(self, person):\n",
    "        \"\"\" [person]\n",
    "        Greet the named person\"\"\"\n",
    "        if person:\n",
    "            print(\"hello,\", person)\n",
    "        else:\n",
    "            print('hi')\n",
    "    def do_EOF(self, line):\n",
    "        return True\n",
    "if __name__ == '__main__' :\n",
    "    HelloWorld().cmdloop()"
   ]
  },
  {
   "attachments": {
    "image.png": {
     "image/png": "[encoded data removed]"
    }
   },
   "cell_type": "markdown",
   "metadata": {},
   "source": [
    "![image.png](attachment:image.png)"
   ]
  },
  {
   "cell_type": "markdown",
   "metadata": {},
   "source": [
    "## Активная справка"
   ]
  },
  {
   "cell_type": "code",
   "execution_count": 8,
   "metadata": {},
   "outputs": [
    {
     "name": "stdout",
     "output_type": "stream",
     "text": [
      "(Cmd) help greet\n",
      "greet [person]\n",
      "Greet the named person\n",
      "(Cmd) EOF\n"
     ]
    }
   ],
   "source": [
    "import cmd\n",
    "\n",
    "class HelloWorld(cmd.Cmd):\n",
    "    def do_greet(self, person):\n",
    "        if person:\n",
    "            print(\"hello,\", person)\n",
    "        else:\n",
    "            print('hi')\n",
    "    def help_greet(self):\n",
    "        print('\\n'.join([\n",
    "        'greet [person]',\n",
    "        'Greet the named person',]))\n",
    "    def do_EOF(self, line):\n",
    "        return True\n",
    "if __name__ == '__main__' :\n",
    "    HelloWorld().cmdloop()"
   ]
  },
  {
   "cell_type": "markdown",
   "metadata": {},
   "source": [
    "Документация: https://docs.python.org/3.5/library/cmd.html"
   ]
  },
  {
   "cell_type": "markdown",
   "metadata": {},
   "source": [
    "Задание: создать метод do_pass(), определяющий корректность введенного пароля"
   ]
  },
  {
   "cell_type": "markdown",
   "metadata": {},
   "source": [
    "# getpass()"
   ]
  },
  {
   "cell_type": "code",
   "execution_count": 4,
   "metadata": {},
   "outputs": [
    {
     "name": "stdout",
     "output_type": "stream",
     "text": [
      "Password: ········\n",
      "You entered: 123asd\n"
     ]
    }
   ],
   "source": [
    "import getpass\n",
    "\n",
    "try:\n",
    "    password = getpass.getpass(\"Password: \")\n",
    "except Exception as err:\n",
    "    print (\"ERROR:\",err)\n",
    "else:\n",
    "    print(\"You entered:\",password)"
   ]
  },
  {
   "attachments": {
    "image.png": {
     "image/png": "[encoded data removed]"
    }
   },
   "cell_type": "markdown",
   "metadata": {},
   "source": [
    "![image.png](attachment:image.png)"
   ]
  },
  {
   "cell_type": "markdown",
   "metadata": {},
   "source": [
    "Документация: https://docs.python.org/3.5/library/getpass.html"
   ]
  },
  {
   "cell_type": "markdown",
   "metadata": {},
   "source": [
    "Задание: создать проверку для пароля с подсказкой,используя модуль getpass()\n"
   ]
  }
 ],
 "metadata": {
  "kernelspec": {
   "display_name": "Python 3",
   "language": "python",
   "name": "python3"
  }
 },
 "nbformat": 4,
 "nbformat_minor": 4
}
