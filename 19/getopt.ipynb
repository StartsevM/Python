{
 "cells": [
  {
   "cell_type": "markdown",
   "metadata": {},
   "source": [
    "# getopt()"
   ]
  },
  {
   "cell_type": "markdown",
   "metadata": {},
   "source": [
    "Модуль getopt — это оригинальный лексический анализатор параметров командной строки,\n",
    "следующий правилам, установленным функцией getopt () в Unix. \n",
    "\n",
    "Он анализирует последовательность аргументов и возвращает последовательность кортежей в виде пар (параметр, аргумент) и список аргументов программы, остающихся после исключения параметров."
   ]
  },
  {
   "cell_type": "markdown",
   "metadata": {},
   "source": [
    "Модуль getopt не считается устаревшим, однако модуль argparse получает более активную поддержку, и поэтому именно его рекомендуется использовать в новых разработках."
   ]
  },
  {
   "cell_type": "markdown",
   "metadata": {},
   "source": [
    "Функция getopt () получает три аргумента, назначение которых описано\n",
    "ниже.\n",
    "\n",
    "\n",
    "• Первый аргумент — последовательность аргументов, подлежащих анализу.\n",
    "\n",
    "• Второй аргумент — строка определения односимвольных параметров. Если\n",
    "какой-либо из параметров требует задания аргумента, вслед за его буквой\n",
    "необходимо указать двоеточие.\n",
    "\n",
    "\n",
    "• Третий аргумент, если он используется, — последовательность параметров\n",
    "c длинными именами. Такие имена могут включать более одного символа,\n"
   ]
  },
  {
   "cell_type": "code",
   "execution_count": null,
   "metadata": {},
   "outputs": [],
   "source": [
    "import getopt\n",
    "\n",
    "opts, args = getopt.getopt(['-a', '-bval', '-c', 'val'], \n",
    "                           'ab:c:')\n",
    "\n",
    "for opt in opts:\n",
    "    print(opt)"
   ]
  },
  {
   "attachments": {
    "image-2.png": {
     "image/png": "[encoded data removed]"
    }
   },
   "cell_type": "markdown",
   "metadata": {},
   "source": [
    "![image-2.png](attachment:image-2.png)"
   ]
  },
  {
   "cell_type": "code",
   "execution_count": 2,
   "metadata": {},
   "outputs": [
    {
     "name": "stdout",
     "output_type": "stream",
     "text": [
      "('--noarg', '')\n",
      "('--witharg', 'val')\n",
      "('--witharg2', 'another')\n"
     ]
    }
   ],
   "source": [
    "import getopt\n",
    "opts,args = getopt.getopt(['--noarg','--witharg', 'val','--witharg2=another'],\n",
    "                            '',\n",
    "                            ['noarg', 'witharg=', 'witharg2='],)\n",
    "\n",
    "for opt in opts:\n",
    "    print(opt)"
   ]
  },
  {
   "cell_type": "markdown",
   "metadata": {},
   "source": [
    "Поскольку данный образец программы не принимает параметров в короткой\n",
    "форме, в качестве второго аргумента функции getopt () передается пустая строка."
   ]
  },
  {
   "cell_type": "markdown",
   "metadata": {},
   "source": [
    "Ниже представлен более полный пример программы,\n",
    "которая принимает пять параметров: -о, -v, --output, --flag и --version.\n",
    "Параметры -о, --output и --version требуют задания аргументов."
   ]
  },
  {
   "cell_type": "code",
   "execution_count": null,
   "metadata": {},
   "outputs": [],
   "source": [
    "import getopt\n",
    "import sys\n",
    "\n",
    "version = '1.0'\n",
    "flag = False\n",
    "output_filename = 'default.out'\n",
    "\n",
    "print('ARGV :', sys.argv[1:])\n",
    "\n",
    "try:\n",
    "    options, remainder = getopt.getopt(sys.argv[1:],\n",
    "                                        'o:f',\n",
    "                                        ['output=','flag','version=',])\n",
    "\n",
    "except getopt.GetoptError as err:\n",
    "    print('ERROR:', err)\n",
    "    sys.exit(1)\n",
    "    print('OPTIONS :', options)\n",
    "for opt, arg in options:\n",
    "    if opt in ('-o', '—output'):\n",
    "        output_filename = arg\n",
    "    elif opt in ('-f', '—flag'):\n",
    "        flag = True\n",
    "    elif opt == '—version':\n",
    "        version = arg\n",
    "print('VERSION :', version)\n",
    "print('FLAG :', flag)\n",
    "print('OUTPUT :', output_filename)\n",
    "print('REMAINING :', remainder)"
   ]
  },
  {
   "cell_type": "markdown",
   "metadata": {},
   "source": [
    "Эту программу можно вызвать различными способами. Если она вызывается\n",
    "без аргументов, то используются значения, заданные по умолчанию."
   ]
  },
  {
   "attachments": {
    "image.png": {
     "image/png": "[encoded data removed]"
    }
   },
   "cell_type": "markdown",
   "metadata": {},
   "source": [
    "![image.png](attachment:image.png)"
   ]
  },
  {
   "attachments": {
    "image-3.png": {
     "image/png": "[encoded data removed]"
    }
   },
   "cell_type": "markdown",
   "metadata": {},
   "source": [
    "![image-3.png](attachment:image-3.png)"
   ]
  },
  {
   "attachments": {
    "image-2.png": {
     "image/png": "[encoded data removed]"
    }
   },
   "cell_type": "markdown",
   "metadata": {},
   "source": [
    "![image-2.png](attachment:image-2.png)"
   ]
  },
  {
   "cell_type": "markdown",
   "metadata": {},
   "source": [
    "Документация: https://docs.python.org/3.5/library/getopt.html"
   ]
  },
  {
   "cell_type": "markdown",
   "metadata": {},
   "source": [
    "Задание: Создать программу,задействовав модуль getopt() с 5-ю параметрами."
   ]
  }
 ],
 "metadata": {
  "kernelspec": {
   "display_name": "Python 3",
   "language": "python",
   "name": "python3"
  },
  "language_info": {
   "codemirror_mode": {
    "name": "ipython",
    "version": 3
   },
   "file_extension": ".py",
   "mimetype": "text/x-python",
   "name": "python",
   "nbconvert_exporter": "python",
   "pygments_lexer": "ipython3",
   "version": "3.9.0"
  }
 },
 "nbformat": 4,
 "nbformat_minor": 4
}
