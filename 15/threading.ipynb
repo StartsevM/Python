{
 "cells": [
  {
   "cell_type": "markdown",
   "metadata": {},
   "source": [
    "# Что такое Thread (Поток)?"
   ]
  },
  {
   "cell_type": "markdown",
   "metadata": {},
   "source": [
    "Thread — это отдельный поток выполнения. Это означает, что в вашей программе могут работать две и более подпрограммы одновременно. Используется для задач ввода-вывода "
   ]
  },
  {
   "cell_type": "markdown",
   "metadata": {},
   "source": [
    "## Потоки (Thread)"
   ]
  },
  {
   "cell_type": "markdown",
   "metadata": {},
   "source": [
    "Стандартная библиотека Python предоставляет библиотеку threading, которая содержит необходимые классы для работы с потоками. Основной класс в этой библиотеки Thread."
   ]
  },
  {
   "cell_type": "markdown",
   "metadata": {},
   "source": [
    "Чтобы запустить отдельный поток, нужно создать экземпляр потока Thread и затем запустить его с помощью метода .start():"
   ]
  },
  {
   "cell_type": "code",
   "execution_count": 11,
   "metadata": {},
   "outputs": [
    {
     "name": "stderr",
     "output_type": "stream",
     "text": [
      "07:50:39: Main    : before creating thread\n",
      "07:50:39: Main    : before running thread\n",
      "07:50:39: Thread 1: starting\n",
      "07:50:39: Main    : wait for the thread to finish\n",
      "07:50:39: Main    : all done\n",
      "07:50:41: Thread 1: finishing\n"
     ]
    }
   ],
   "source": [
    "import logging\n",
    "import threading\n",
    "import time\n",
    "\n",
    "def thread_function(name):\n",
    "    logging.info(\"Thread %s: starting\", name)\n",
    "    time.sleep(2)\n",
    "    logging.info(\"Thread %s: finishing\", name)\n",
    "    \n",
    "if __name__ == \"__main__\":\n",
    "    format = \"%(asctime)s: %(message)s\"\n",
    "    logging.basicConfig(format = format, level = logging.INFO,\n",
    "                        datefmt = \"%H:%M:%S\")\n",
    "    logging.info(\"Main    : before creating thread\")\n",
    "    \n",
    "    x = threading.Thread(target = thread_function, args = (1,))\n",
    "    \n",
    "    logging.info(\"Main    : before running thread\")\n",
    "    \n",
    "    x.start()\n",
    "    \n",
    "    logging.info(\"Main    : wait for the thread to finish\")\n",
    "    logging.info(\"Main    : all done\")"
   ]
  },
  {
   "cell_type": "markdown",
   "metadata": {},
   "source": [
    "Когда мы создаем поток Thread, мы передаем ему функцию и список, содержащий аргументы этой функции. В нашем примере мы говорим Thread, чтобы он запустил функцию thread_function() и передаем ему 1 в качестве аргумента.\n",
    "\n",
    "Сама по себе функция thread_function() мало что делает. Она просто выводит некоторые сообщения с промежутком time.sleep() между ними."
   ]
  },
  {
   "cell_type": "markdown",
   "metadata": {},
   "source": [
    "Стоит обратить внимание на то, что Thread завершил работу после выполнения Main."
   ]
  },
  {
   "cell_type": "markdown",
   "metadata": {},
   "source": [
    "## Потоки-демоны"
   ]
  },
  {
   "cell_type": "markdown",
   "metadata": {},
   "source": [
    "daemon (демон) — это процесс, который работает в фоновом режиме."
   ]
  },
  {
   "cell_type": "markdown",
   "metadata": {},
   "source": [
    "Если в программе запущены потоки, которые не являются демонами, то программа будет ожидать завершения этих потоков, прежде чем сможет завершится. Тем не менее, потоки, которые являются демонами, при закрытие программы просто убиваются, в каком бы они состояние ни находились."
   ]
  },
  {
   "cell_type": "markdown",
   "metadata": {},
   "source": [
    "Если посмотрить на источники библиотеки threading Python, вы увидите, что threading._shutdown() проходит по всем запущенным потокам и вызывает метод .join() для всех потоков, для которых не установлен флаг daemon."
   ]
  },
  {
   "cell_type": "markdown",
   "metadata": {},
   "source": [
    "Создание демонического потока:\n",
    "\n",
    "x = threading.Thread(target=thread_function, args=(1,), daemon=True)"
   ]
  },
  {
   "cell_type": "code",
   "execution_count": null,
   "metadata": {},
   "outputs": [],
   "source": [
    "import logging\n",
    "import threading\n",
    "import time\n",
    "\n",
    "def thread_function(name):\n",
    "    logging.info(\"Thread %s: starting\", name)\n",
    "    time.sleep(2)\n",
    "    logging.info(\"Thread %s: finishing\", name)\n",
    "    \n",
    "if __name__ == \"__main__\":\n",
    "    format = \"%(asctime)s: %(message)s\"\n",
    "    logging.basicConfig(format = format, level = logging.INFO,\n",
    "                        datefmt = \"%H:%M:%S\")\n",
    "    logging.info(\"Main    : before creating thread\")\n",
    "    \n",
    "    x = threading.Thread(target = thread_function, args = (1,),daemon = True)\n",
    "    \n",
    "    logging.info(\"Main    : before running thread\")\n",
    "    \n",
    "    x.start()\n",
    "    \n",
    "    logging.info(\"Main    : wait for the thread to finish\")\n",
    "    logging.info(\"Main    : all done\")"
   ]
  },
  {
   "attachments": {
    "image.png": {
     "image/png": "[encoded data removed]"
    }
   },
   "cell_type": "markdown",
   "metadata": {},
   "source": [
    "![image.png](attachment:image.png)"
   ]
  },
  {
   "cell_type": "markdown",
   "metadata": {},
   "source": [
    "Разница в том, что последняя строка вывода отсутствует (Thread 1: finishing). thread_function() не получил возможность завершиться. Это был демонический поток, поэтому, когда __main__ достиг конца своего кода и программа захотела завершить работу, демон был просто убит."
   ]
  },
  {
   "cell_type": "markdown",
   "metadata": {},
   "source": [
    "Чтобы указать одному потоку дождаться завершения другого потока, вам нужно вызывать .join()."
   ]
  },
  {
   "cell_type": "code",
   "execution_count": 18,
   "metadata": {},
   "outputs": [
    {
     "name": "stderr",
     "output_type": "stream",
     "text": [
      "08:05:33: Main    : before creating thread\n",
      "08:05:33: Main    : before running thread\n",
      "08:05:33: Thread 1: starting\n",
      "08:05:33: Main    : wait for the thread to finish\n",
      "08:05:35: Thread 1: finishing\n",
      "08:05:35: Main    : all done\n"
     ]
    }
   ],
   "source": [
    "import logging\n",
    "import threading\n",
    "import time\n",
    "\n",
    "def thread_function(name):\n",
    "    logging.info(\"Thread %s: starting\", name)\n",
    "    time.sleep(2)\n",
    "    logging.info(\"Thread %s: finishing\", name)\n",
    "    \n",
    "if __name__ == \"__main__\":\n",
    "    format = \"%(asctime)s: %(message)s\"\n",
    "    logging.basicConfig(format = format, level = logging.INFO,\n",
    "                        datefmt = \"%H:%M:%S\")\n",
    "    logging.info(\"Main    : before creating thread\")\n",
    "    \n",
    "    x = threading.Thread(target = thread_function, args = (1,),daemon = True)\n",
    "    \n",
    "    logging.info(\"Main    : before running thread\")\n",
    "    \n",
    "    x.start()\n",
    "    \n",
    "    logging.info(\"Main    : wait for the thread to finish\")\n",
    "    x.join()\n",
    "    logging.info(\"Main    : all done\")"
   ]
  },
  {
   "cell_type": "markdown",
   "metadata": {},
   "source": [
    "## Работа с несколькими потоками"
   ]
  },
  {
   "cell_type": "markdown",
   "metadata": {},
   "source": [
    "До сих пор мы рассматривали пример только с двумя потоками: основным потоком и с потоком который мы создали с помощью объекта threading.Thread.\n"
   ]
  },
  {
   "cell_type": "code",
   "execution_count": 23,
   "metadata": {},
   "outputs": [
    {
     "name": "stderr",
     "output_type": "stream",
     "text": [
      "08:10:01: Main    : create and start thread 0.\n",
      "08:10:01: Thread 0: starting\n",
      "08:10:01: Main    : create and start thread 1.\n",
      "08:10:01: Thread 1: starting\n",
      "08:10:01: Main    : create and start thread 2.\n",
      "08:10:01: Thread 2: starting\n",
      "08:10:01: Main    : before joining thread 0.\n",
      "08:10:03: Thread 1: finishing\n",
      "08:10:03: Thread 0: finishing\n",
      "08:10:03: Main    : thread 0 done\n",
      "08:10:03: Main    : before joining thread 1.\n",
      "08:10:03: Main    : thread 1 done\n",
      "08:10:03: Main    : before joining thread 2.\n",
      "08:10:03: Thread 2: finishing\n",
      "08:10:03: Main    : thread 2 done\n"
     ]
    }
   ],
   "source": [
    "import logging\n",
    "import threading\n",
    "import time\n",
    "\n",
    "def thread_function(name):\n",
    "    logging.info(\"Thread %s: starting\", name)\n",
    "    time.sleep(2)\n",
    "    logging.info(\"Thread %s: finishing\", name)\n",
    "    \n",
    "if __name__ == \"__main__\":\n",
    "    format = \"%(asctime)s: %(message)s\"\n",
    "    logging.basicConfig(format=format, level=logging.INFO,\n",
    "                        datefmt=\"%H:%M:%S\")\n",
    "    threads = list()\n",
    "    for index in range(3):\n",
    "        logging.info(\"Main    : create and start thread %d.\", index)\n",
    "        x = threading.Thread(target=thread_function, args=(index,))\n",
    "        threads.append(x)\n",
    "        x.start()\n",
    "    for index, thread in enumerate(threads):\n",
    "        logging.info(\"Main    : before joining thread %d.\", index)\n",
    "        thread.join()\n",
    "        logging.info(\"Main    : thread %d done\", index)"
   ]
  },
  {
   "cell_type": "markdown",
   "metadata": {},
   "source": [
    "Этот код использует тот же механизм, который мы рассмотрели выше, чтобы запустить поток, создать объект Thread, а затем вызывать .start(). В примере мы размещаем все потоки Thread в списке threads, для того что бы можно было бы ожидать их позже, используя .join()."
   ]
  },
  {
   "cell_type": "markdown",
   "metadata": {},
   "source": [
    "Если  внимательно просмотреть выходные данные, мы увидим, что все три потока запускаются в том порядке, в котором мы ожидаем, но заканчиваются в случайном порядке! Многократные запуски покажут различные результаты.\n",
    "\n",
    "Порядок выполнения потоков определяется операционной системой и его может быть довольно сложно предсказать. Он может  изменяться от запуска к запуску, поэтому вам следует помнить об этом при разработке алгоритмов, использующих многопоточность."
   ]
  },
  {
   "cell_type": "markdown",
   "metadata": {},
   "source": [
    "Возникает проблема, когда два или более потока обращаются к одному фрагменту данных или ресурсу - Race Conditions (условия гонки)"
   ]
  },
  {
   "cell_type": "markdown",
   "metadata": {},
   "source": [
    "## Lock"
   ]
  },
  {
   "cell_type": "markdown",
   "metadata": {},
   "source": [
    "Только один поток за раз может использовать обьект Lock. Любой другой поток, который захочет его использовать, должен подождать, пока текущий владелец не завершит свою работу.\n",
    "\n",
    "Основными методами lock являются .acquire() и .release(). Чтобы получить lock, потоку нужно вызвать my_lock.acquire(). Если блокировка уже удерживается, вызывающий поток будет ждать, пока она не будет снята. Здесь есть важный момент. Если один поток получает блокировку, но никогда не снимает ее, программа зависнет.\n",
    "\n",
    "В Python Lock может также работать как менеджер контекста, так что вы можете использовать его с with, тогда он будет освобожден автоматически, когда блок with завершится."
   ]
  },
  {
   "cell_type": "markdown",
   "metadata": {},
   "source": [
    "Документация: https://docs.python.org/3.5/library/threading.html"
   ]
  }
 ],
 "metadata": {
  "kernelspec": {
   "display_name": "Python 3",
   "language": "python",
   "name": "python3"
  },
  "language_info": {
   "codemirror_mode": {
    "name": "ipython",
    "version": 3
   },
   "file_extension": ".py",
   "mimetype": "text/x-python",
   "name": "python",
   "nbconvert_exporter": "python",
   "pygments_lexer": "ipython3",
   "version": "3.9.0"
  }
 },
 "nbformat": 4,
 "nbformat_minor": 4
}
